{
 "cells": [
  {
   "cell_type": "code",
   "execution_count": 33,
   "metadata": {},
   "outputs": [],
   "source": [
    "import os\n",
    "import pandas as pd"
   ]
  },
  {
   "cell_type": "code",
   "execution_count": 34,
   "metadata": {},
   "outputs": [],
   "source": [
    "df = pd.read_csv(\"SMSSpamCollection\", sep=\"\\t\")"
   ]
  },
  {
   "cell_type": "code",
   "execution_count": 35,
   "metadata": {},
   "outputs": [],
   "source": [
    "df.columns = [\"label\", \"text\"]"
   ]
  },
  {
   "cell_type": "code",
   "execution_count": 36,
   "metadata": {},
   "outputs": [
    {
     "data": {
      "text/plain": [
       "<bound method DataFrame.describe of      label                                               text\n",
       "0      ham                      Ok lar... Joking wif u oni...\n",
       "1     spam  Free entry in 2 a wkly comp to win FA Cup fina...\n",
       "2      ham  U dun say so early hor... U c already then say...\n",
       "3      ham  Nah I don't think he goes to usf, he lives aro...\n",
       "4     spam  FreeMsg Hey there darling it's been 3 week's n...\n",
       "5      ham  Even my brother is not like to speak with me. ...\n",
       "6      ham  As per your request 'Melle Melle (Oru Minnamin...\n",
       "7     spam  WINNER!! As a valued network customer you have...\n",
       "8     spam  Had your mobile 11 months or more? U R entitle...\n",
       "9      ham  I'm gonna be home soon and i don't want to tal...\n",
       "10    spam  SIX chances to win CASH! From 100 to 20,000 po...\n",
       "11    spam  URGENT! You have won a 1 week FREE membership ...\n",
       "12     ham  I've been searching for the right words to tha...\n",
       "13     ham                I HAVE A DATE ON SUNDAY WITH WILL!!\n",
       "14    spam  XXXMobileMovieClub: To use your credit, click ...\n",
       "15     ham                         Oh k...i'm watching here:)\n",
       "16     ham  Eh u remember how 2 spell his name... Yes i di...\n",
       "17     ham  Fine if thats the way u feel. Thats the way ...\n",
       "18    spam  England v Macedonia - dont miss the goals/team...\n",
       "19     ham          Is that seriously how you spell his name?\n",
       "20     ham    I‘m going to try for 2 months ha ha only joking\n",
       "21     ham  So ü pay first lar... Then when is da stock co...\n",
       "22     ham  Aft i finish my lunch then i go str down lor. ...\n",
       "23     ham  Ffffffffff. Alright no way I can meet up with ...\n",
       "24     ham  Just forced myself to eat a slice. I'm really ...\n",
       "25     ham                     Lol your always so convincing.\n",
       "26     ham  Did you catch the bus ? Are you frying an egg ...\n",
       "27     ham  I'm back &amp; we're packing the car now, I'll...\n",
       "28     ham  Ahhh. Work. I vaguely remember that! What does...\n",
       "29     ham  Wait that's still not all that clear, were you...\n",
       "...    ...                                                ...\n",
       "5541   ham           Armand says get your ass over to epsilon\n",
       "5542   ham             U still havent got urself a jacket ah?\n",
       "5543   ham  I'm taking derek &amp; taylor to walmart, if I...\n",
       "5544   ham      Hi its in durban are you still on this number\n",
       "5545   ham         Ic. There are a lotta childporn cars then.\n",
       "5546  spam  Had your contract mobile 11 Mnths? Latest Moto...\n",
       "5547   ham                 No, I was trying it all weekend ;V\n",
       "5548   ham  You know, wot people wear. T shirts, jumpers, ...\n",
       "5549   ham        Cool, what time you think you can get here?\n",
       "5550   ham  Wen did you get so spiritual and deep. That's ...\n",
       "5551   ham  Have a safe trip to Nigeria. Wish you happines...\n",
       "5552   ham                        Hahaha..use your brain dear\n",
       "5553   ham  Well keep in mind I've only got enough gas for...\n",
       "5554   ham  Yeh. Indians was nice. Tho it did kane me off ...\n",
       "5555   ham  Yes i have. So that's why u texted. Pshew...mi...\n",
       "5556   ham  No. I meant the calculation is the same. That ...\n",
       "5557   ham                             Sorry, I'll call later\n",
       "5558   ham  if you aren't here in the next  &lt;#&gt;  hou...\n",
       "5559   ham                  Anything lor. Juz both of us lor.\n",
       "5560   ham  Get me out of this dump heap. My mom decided t...\n",
       "5561   ham  Ok lor... Sony ericsson salesman... I ask shuh...\n",
       "5562   ham                                Ard 6 like dat lor.\n",
       "5563   ham  Why don't you wait 'til at least wednesday to ...\n",
       "5564   ham                                       Huh y lei...\n",
       "5565  spam  REMINDER FROM O2: To get 2.50 pounds free call...\n",
       "5566  spam  This is the 2nd time we have tried 2 contact u...\n",
       "5567   ham               Will ü b going to esplanade fr home?\n",
       "5568   ham  Pity, * was in mood for that. So...any other s...\n",
       "5569   ham  The guy did some bitching but I acted like i'd...\n",
       "5570   ham                         Rofl. Its true to its name\n",
       "\n",
       "[5571 rows x 2 columns]>"
      ]
     },
     "execution_count": 36,
     "metadata": {},
     "output_type": "execute_result"
    }
   ],
   "source": [
    "df.describe"
   ]
  },
  {
   "cell_type": "code",
   "execution_count": 40,
   "metadata": {},
   "outputs": [],
   "source": [
    "train_set = df.sample(frac=0.9)\n",
    "train_spam = train_set[train_set.label == \"spam\"]\n",
    "train_ham = train_set[train_set.label == \"ham\"]"
   ]
  },
  {
   "cell_type": "code",
   "execution_count": 41,
   "metadata": {},
   "outputs": [],
   "source": [
    "test_set = df.drop(train.index)\n",
    "test_spam = test_set[test_set.label == \"spam\"]\n",
    "test_ham = test_set[test_set.label == \"ham\"]"
   ]
  },
  {
   "cell_type": "code",
   "execution_count": 42,
   "metadata": {},
   "outputs": [],
   "source": [
    "os.mkdir(\"train\"); \n",
    "os.mkdir(\"train/spam\"); \n",
    "os.mkdir(\"train/ham\");\n",
    "\n",
    "os.mkdir(\"test\");\n",
    "os.mkdir(\"test/spam\");\n",
    "os.mkdir(\"test/ham\");"
   ]
  },
  {
   "cell_type": "code",
   "execution_count": 43,
   "metadata": {},
   "outputs": [],
   "source": [
    "def write_text(path, df):\n",
    "    for i, r in df.iterrows():\n",
    "        with open(path + str(i) + \".txt\", \"w\") as f:\n",
    "            f.write(r[\"text\"])"
   ]
  },
  {
   "cell_type": "code",
   "execution_count": 44,
   "metadata": {},
   "outputs": [],
   "source": [
    "write_text(\"train/spam/\", train_spam)\n",
    "write_text(\"train/ham/\", train_ham)\n",
    "write_text(\"test/spam/\", test_spam)\n",
    "write_text(\"test/ham/\", test_ham)"
   ]
  },
  {
   "cell_type": "code",
   "execution_count": null,
   "metadata": {},
   "outputs": [],
   "source": []
  }
 ],
 "metadata": {
  "kernelspec": {
   "display_name": "Python 3",
   "language": "python",
   "name": "python3"
  },
  "language_info": {
   "codemirror_mode": {
    "name": "ipython",
    "version": 2
   },
   "file_extension": ".py",
   "mimetype": "text/x-python",
   "name": "python",
   "nbconvert_exporter": "python",
   "pygments_lexer": "ipython2",
   "version": "2.7.16"
  }
 },
 "nbformat": 4,
 "nbformat_minor": 2
}
